{
 "cells": [
  {
   "cell_type": "code",
   "execution_count": null,
   "id": "37993622-cc2e-4d1b-bfd2-68a68e4c1b61",
   "metadata": {},
   "outputs": [],
   "source": []
  }
 ],
 "metadata": {
  "kernelspec": {
   "display_name": "",
   "name": ""
  },
  "language_info": {
   "name": ""
  }
 },
 "nbformat": 4,
 "nbformat_minor": 5
}
